{
 "cells": [
  {
   "cell_type": "code",
   "execution_count": 4,
   "metadata": {},
   "outputs": [
    {
     "name": "stdout",
     "output_type": "stream",
     "text": [
      "The autoreload extension is already loaded. To reload it, use:\n",
      "  %reload_ext autoreload\n"
     ]
    }
   ],
   "source": [
    "%load_ext autoreload\n",
    "%autoreload 2\n",
    "from utils import plot_reconstr, plot_rec, plot_analogy, get_normalized_dataloader, get_initialized_network\n",
    "from argparse import Namespace\n",
    "from types import SimpleNamespace"
   ]
  },
  {
   "cell_type": "code",
   "execution_count": 5,
   "metadata": {},
   "outputs": [],
   "source": [
    "opt = SimpleNamespace(\n",
    "    lr=0.002,\n",
    "    beta1=0.5,\n",
    "    batch_size=50,\n",
    "    log_dir=\"logs\",\n",
    "    data_root=\"\",\n",
    "    optimizer=\"adam\",\n",
    "    niter=200,\n",
    "    seed=1,\n",
    "    epoch_size=600,\n",
    "    content_dim=128,\n",
    "    pose_dim=10,\n",
    "    image_width=128,\n",
    "    channels=3,\n",
    "    datasets=\"kth\",\n",
    "    max_step=20,\n",
    "    sd_weight=100,\n",
    "    sd_nf=100,\n",
    "    content_model=\"dcgan_unet\",\n",
    "    pose_model=\"dcgan\",\n",
    "    data_threads=5,\n",
    "    normalize=False,\n",
    "    data_type=\"drnet\",\n",
    "    pose=True\n",
    ")"
   ]
  },
  {
   "cell_type": "code",
   "execution_count": null,
   "metadata": {},
   "outputs": [],
   "source": []
  }
 ],
 "metadata": {
  "anaconda-cloud": {},
  "kernelspec": {
   "display_name": "Python [conda env:torch]",
   "language": "python",
   "name": "conda-env-torch-py"
  },
  "language_info": {
   "codemirror_mode": {
    "name": "ipython",
    "version": 3
   },
   "file_extension": ".py",
   "mimetype": "text/x-python",
   "name": "python",
   "nbconvert_exporter": "python",
   "pygments_lexer": "ipython3",
   "version": "3.6.7"
  }
 },
 "nbformat": 4,
 "nbformat_minor": 2
}
